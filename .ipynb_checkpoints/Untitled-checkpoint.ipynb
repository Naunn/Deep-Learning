{
 "cells": [
  {
   "cell_type": "code",
   "execution_count": 47,
   "id": "e7d5fe18",
   "metadata": {},
   "outputs": [
    {
     "name": "stdout",
     "output_type": "stream",
     "text": [
      "Using matplotlib backend: TkAgg\n"
     ]
    }
   ],
   "source": [
    "from keras.datasets.mnist import load_data\n",
    "%matplotlib\n",
    "import matplotlib.pyplot as plt"
   ]
  },
  {
   "cell_type": "code",
   "execution_count": 8,
   "id": "59a0e494",
   "metadata": {},
   "outputs": [],
   "source": [
    "(trainX,trainY), (testX, testY) = load_data()"
   ]
  },
  {
   "cell_type": "code",
   "execution_count": 9,
   "id": "0957cfba",
   "metadata": {},
   "outputs": [
    {
     "data": {
      "text/plain": [
       "(60000, 28, 28)"
      ]
     },
     "execution_count": 9,
     "metadata": {},
     "output_type": "execute_result"
    }
   ],
   "source": [
    "trainX.shape"
   ]
  },
  {
   "cell_type": "code",
   "execution_count": 49,
   "id": "2bafb38f",
   "metadata": {},
   "outputs": [
    {
     "data": {
      "text/plain": [
       "<matplotlib.image.AxesImage at 0x1ffcc29b100>"
      ]
     },
     "execution_count": 49,
     "metadata": {},
     "output_type": "execute_result"
    },
    {
     "name": "stderr",
     "output_type": "stream",
     "text": [
      "Exception in Tkinter callback\n",
      "Traceback (most recent call last):\n",
      "  File \"C:\\Users\\barlewandowski\\Anaconda3\\envs\\tensorflow_env\\lib\\tkinter\\__init__.py\", line 1921, in __call__\n",
      "    return self.func(*args)\n",
      "  File \"C:\\Users\\barlewandowski\\Anaconda3\\envs\\tensorflow_env\\lib\\tkinter\\__init__.py\", line 839, in callit\n",
      "    func(*args)\n",
      "  File \"C:\\Users\\barlewandowski\\Anaconda3\\envs\\tensorflow_env\\lib\\site-packages\\matplotlib\\backends\\_backend_tk.py\", line 539, in delayed_destroy\n",
      "    self.window.destroy()\n",
      "  File \"C:\\Users\\barlewandowski\\Anaconda3\\envs\\tensorflow_env\\lib\\tkinter\\__init__.py\", line 2341, in destroy\n",
      "    self.tk.call('destroy', self._w)\n",
      "_tkinter.TclError: can't invoke \"destroy\" command: application has been destroyed\n"
     ]
    }
   ],
   "source": [
    "plt.imshow(trainX[0])"
   ]
  },
  {
   "cell_type": "code",
   "execution_count": 48,
   "id": "5935b501",
   "metadata": {},
   "outputs": [
    {
     "name": "stderr",
     "output_type": "stream",
     "text": [
      "Exception in Tkinter callback\n",
      "Traceback (most recent call last):\n",
      "  File \"C:\\Users\\barlewandowski\\Anaconda3\\envs\\tensorflow_env\\lib\\tkinter\\__init__.py\", line 1921, in __call__\n",
      "    return self.func(*args)\n",
      "  File \"C:\\Users\\barlewandowski\\Anaconda3\\envs\\tensorflow_env\\lib\\tkinter\\__init__.py\", line 839, in callit\n",
      "    func(*args)\n",
      "  File \"C:\\Users\\barlewandowski\\Anaconda3\\envs\\tensorflow_env\\lib\\site-packages\\matplotlib\\backends\\_backend_tk.py\", line 539, in delayed_destroy\n",
      "    self.window.destroy()\n",
      "  File \"C:\\Users\\barlewandowski\\Anaconda3\\envs\\tensorflow_env\\lib\\tkinter\\__init__.py\", line 2341, in destroy\n",
      "    self.tk.call('destroy', self._w)\n",
      "_tkinter.TclError: can't invoke \"destroy\" command: application has been destroyed\n"
     ]
    }
   ],
   "source": [
    "def plotter(nrows, ncols):\n",
    "    plt.figure(figsize=(20,20))\n",
    "    \n",
    "    for i in range(nrows*ncols):\n",
    "        plt.subplot(nrows,ncols,1+i)\n",
    "        plt.axis('off')\n",
    "        plt.imshow(trainX[i], cmap = 'gray_r')\n",
    "        plt.title(trainY[i])\n",
    "        \n",
    "#     plt.subplots_adjust(wspace = 0.9, hspace = 0.9)\n",
    "\n",
    "plotter(10,10)"
   ]
  },
  {
   "cell_type": "code",
   "execution_count": null,
   "id": "bda87b77",
   "metadata": {},
   "outputs": [],
   "source": []
  }
 ],
 "metadata": {
  "kernelspec": {
   "display_name": "tensor_kernel",
   "language": "python",
   "name": "tensor_kernel"
  },
  "language_info": {
   "codemirror_mode": {
    "name": "ipython",
    "version": 3
   },
   "file_extension": ".py",
   "mimetype": "text/x-python",
   "name": "python",
   "nbconvert_exporter": "python",
   "pygments_lexer": "ipython3",
   "version": "3.10.4"
  }
 },
 "nbformat": 4,
 "nbformat_minor": 5
}
