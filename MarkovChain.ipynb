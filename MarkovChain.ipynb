{
 "cells": [
  {
   "attachments": {},
   "cell_type": "markdown",
   "metadata": {},
   "source": [
    "# Wprowadzenie do łańcuchów Markova\n",
    "\n",
    "https://towardsdatascience.com/introduction-to-markov-chain-programming-8ddbe0ac1c84"
   ]
  },
  {
   "cell_type": "code",
   "execution_count": 1,
   "metadata": {},
   "outputs": [],
   "source": [
    "import numpy as np"
   ]
  },
  {
   "cell_type": "code",
   "execution_count": 2,
   "metadata": {},
   "outputs": [
    {
     "name": "stdout",
     "output_type": "stream",
     "text": [
      "States: ['sunny', 'rainy']\n",
      "Transitions: [['SS', 'SR'], ['RS', 'RR']]\n",
      "T: [[0.9, 0.1], [0.5, 0.5]]\n"
     ]
    }
   ],
   "source": [
    "states = [\"sunny\", \"rainy\"]\n",
    "transitions = [[\"SS\", \"SR\"],[\"RS\", \"RR\"]]\n",
    "T = [[0.9, 0.1],[0.5, 0.5]]\n",
    "print(\"States: {}\\nTransitions: {}\\nT: {}\".format(states, transitions, T))"
   ]
  },
  {
   "cell_type": "code",
   "execution_count": 3,
   "metadata": {},
   "outputs": [],
   "source": [
    "def weather_forecast(n_days, weather_today=\"sunny\"):\n",
    "    weather_list = [weather_today]\n",
    "    n = 0\n",
    "    prob = 1.0    \n",
    "    while n != n_days:\n",
    "        if weather_today == \"sunny\":\n",
    "            change = np.random.choice(transitions[0], p=T[0])\n",
    "            if change == \"SS\":\n",
    "                prob = prob * T[0][0]\n",
    "                weather_list.append(states[0])\n",
    "            else:\n",
    "                prob = prob * T[0][1]\n",
    "                weather_list.append(states[1])        \n",
    "                \n",
    "        else:\n",
    "            change = np.random.choice(transitions[1], p=T[1])\n",
    "            if change == \"RS\":\n",
    "                prob = prob * T[1][0]\n",
    "                weather_list.append(states[0])\n",
    "            else:\n",
    "                prob = prob * T[1][1]\n",
    "                weather_list.append(states[1])        \n",
    "        n = n + 1        \n",
    "    return weather_list"
   ]
  },
  {
   "cell_type": "code",
   "execution_count": 12,
   "metadata": {},
   "outputs": [
    {
     "data": {
      "text/plain": [
       "['rainy', 'sunny', 'rainy', 'rainy', 'rainy', 'rainy']"
      ]
     },
     "execution_count": 12,
     "metadata": {},
     "output_type": "execute_result"
    }
   ],
   "source": [
    "weather_forecast(5, \"rainy\")"
   ]
  },
  {
   "attachments": {},
   "cell_type": "markdown",
   "metadata": {},
   "source": [
    "# Zadanie – value iteration\n",
    " \n",
    "\n",
    "Zadanie polega na zaimplementowaniu prostego łańcucha decyzyjnego Markowa, w którym mamy 10 możliwych stanów (oznaczanych przez cyfry 0..9), a akcja pojedynczego ruchu polega na wyborze ruchu w prawo lub w lewo.\n",
    "\n",
    "---   Ruch w prawo: \\\n",
    "o    z prawdopodobieństwem 0.6 przesuwa nas o jedno pole w prawo;   \\\n",
    "o    z prawdopodobieństwem 0.15 przesuwa nas o dwa pola w prawo;    \\\n",
    "o    z prawdopodobieństwem 0.15 przesuwa nas o jedno pole w lewo;   \\\n",
    "o    z prawdopodobieństwem 0.1 przesuwa nas o dwa pola w lewo;\n",
    "\n",
    "---   Ruch w lewo: \\\n",
    "o    z prawdopodobieństwem 0.6 przesuwa nas o jedno pole w lewo;    \\\n",
    "o    z prawdopodobieństwem 0.15 przesuwa nas o dwa pola w lewo;     \\\n",
    "o    z prawdopodobieństwem 0.15 przesuwa nas o jedno pole w prawo;  \\\n",
    "o    z prawdopodobieństwem 0.1 przesuwa nas o dwa pola w prawo;\n",
    "\n",
    "Nagrodą za stan 5 (który kończy grę) jest wartość 100. Pozostałe stany mają wartość -2.\n",
    "\n",
    "**Polecenie** \\\n",
    "Zaimplementuj opisany powyżej łańcuch decyzyjny Markowa, a następnie metodą Value Iteration zaproponuj strategię postępowania w tym łańcuchu."
   ]
  },
  {
   "cell_type": "code",
   "execution_count": 14,
   "metadata": {},
   "outputs": [
    {
     "data": {
      "text/plain": [
       "[0, 1, 2, 3, 4, 5, 6, 7, 8, 9]"
      ]
     },
     "execution_count": 14,
     "metadata": {},
     "output_type": "execute_result"
    }
   ],
   "source": [
    "stan = [_ for _ in range(10)]\n",
    "stan\n",
    "\n",
    "reward = 0"
   ]
  },
  {
   "cell_type": "code",
   "execution_count": 16,
   "metadata": {},
   "outputs": [],
   "source": [
    "P_R = [# 0,    1,    2,    3,    4,    5,    6,    7,    8,    9 stan kolejny/stan początkowy\n",
    "    [ 0.25,  0.6, 0.15,  0.0,  0.0,  0.0,  0.0,  0.0,  0.0,  0.0], # 0\n",
    "    [ 0.25,  0.0,  0.6, 0.15,  0.0,  0.0,  0.0,  0.0,  0.0,  0.0], # 1\n",
    "    [  0.1, 0.15,  0.0,  0.6, 0.15,  0.0,  0.0,  0.0,  0.0,  0.0], # 2\n",
    "    [  0.0,  0.1, 0.15,  0.0,  0.6, 0.15,  0.0,  0.0,  0.0,  0.0], # 3\n",
    "    [  0.0,  0.0,  0.1, 0.15,  0.0,  0.6, 0.15,  0.0,  0.0,  0.0], # 4\n",
    "    [  0.0,  0.0,  0.0,  0.1, 0.15,  0.0,  0.6, 0.15,  0.0,  0.0], # 5\n",
    "    [  0.0,  0.0,  0.0,  0.0,  0.1, 0.15,  0.0,  0.6, 0.15,  0.0], # 6\n",
    "    [  0.0,  0.0,  0.0,  0.0,  0.0,  0.1, 0.15,  0.0,  0.6, 0.15], # 7\n",
    "    [  0.0,  0.0,  0.0,  0.0,  0.0,  0.0,  0.1, 0.15,  0.0, 0.75], # 8\n",
    "    [  0.0,  0.0,  0.0,  0.0,  0.0,  0.0,  0.0,  0.1, 0.15, 0.75]] # 9\n",
    "\n",
    "P_L = [# 0,    1,    2,    3,    4,    5,    6,    7,    8,    9 stan kolejny/stan początkowy\n",
    "    [ 0.75, 0.15,  0.1,  0.0,  0.0,  0.0,  0.0,  0.0,  0.0,  0.0], # 0\n",
    "    [ 0.75,  0.0, 0.15,  0.1,  0.0,  0.0,  0.0,  0.0,  0.0,  0.0], # 1\n",
    "    [ 0.15,  0.6,  0.0, 0.15,  0.1,  0.0,  0.0,  0.0,  0.0,  0.0], # 2\n",
    "    [  0.0, 0.15,  0.6,  0.0, 0.15,  0.1,  0.0,  0.0,  0.0,  0.0], # 3\n",
    "    [  0.0,  0.0, 0.15,  0.6,  0.0, 0.15,  0.1,  0.0,  0.0,  0.0], # 4\n",
    "    [  0.0,  0.0,  0.0, 0.15,  0.6,  0.0, 0.15,  0.1,  0.0,  0.0], # 5\n",
    "    [  0.0,  0.0,  0.0,  0.0, 0.15,  0.6,  0.0, 0.15,  0.1,  0.0], # 6\n",
    "    [  0.0,  0.0,  0.0,  0.0,  0.0, 0.15,  0.6,  0.0, 0.15,  0.1], # 7\n",
    "    [  0.0,  0.0,  0.0,  0.0,  0.0,  0.0, 0.15,  0.6,  0.0, 0.25], # 8\n",
    "    [  0.0,  0.0,  0.0,  0.0,  0.0,  0.0,  0.0, 0.15,  0.6, 0.25]] # 9"
   ]
  },
  {
   "cell_type": "code",
   "execution_count": null,
   "metadata": {},
   "outputs": [],
   "source": []
  }
 ],
 "metadata": {
  "kernelspec": {
   "display_name": "tensorflow_env",
   "language": "python",
   "name": "python3"
  },
  "language_info": {
   "codemirror_mode": {
    "name": "ipython",
    "version": 3
   },
   "file_extension": ".py",
   "mimetype": "text/x-python",
   "name": "python",
   "nbconvert_exporter": "python",
   "pygments_lexer": "ipython3",
   "version": "3.10.4"
  },
  "orig_nbformat": 4,
  "vscode": {
   "interpreter": {
    "hash": "ebf0fe8d40f792ec043927788ce664937b0c4f230e0dae8209e97adfc5aadc12"
   }
  }
 },
 "nbformat": 4,
 "nbformat_minor": 2
}
