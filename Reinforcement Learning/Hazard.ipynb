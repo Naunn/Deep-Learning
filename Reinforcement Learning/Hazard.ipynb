{
 "cells": [
  {
   "cell_type": "code",
   "execution_count": 68,
   "metadata": {},
   "outputs": [],
   "source": [
    "import random"
   ]
  },
  {
   "cell_type": "code",
   "execution_count": 69,
   "metadata": {},
   "outputs": [
    {
     "name": "stdout",
     "output_type": "stream",
     "text": [
      "stan_poczatkowy:\n",
      " {'pula_gracza': 10, 'pula_komputera': 10, 'p_gracz': 0.32, 'p_komp': 0.32}\n",
      "Przestrzeń akcji: 2\n",
      "Przestrzeń stanów: 2121\n"
     ]
    }
   ],
   "source": [
    "pula_gracza = 10\n",
    "p_gracz = round(random.uniform(0, 1),2)\n",
    "\n",
    "pula_komputera = abs(20 - pula_gracza)\n",
    "p_komp = round(random.uniform(0, 1),2)\n",
    "\n",
    "stan_poczatkowy = {\n",
    "    \"pula_gracza\": pula_gracza,\n",
    "    \"pula_komputera\": pula_komputera,\n",
    "    \"p_gracz\": p_gracz,\n",
    "    \"p_komp\": p_komp,\n",
    "}\n",
    "\n",
    "print(\"stan_poczatkowy:\\n\",stan_poczatkowy)\n",
    "\n",
    "akcje = {\n",
    "    \"graj\": 0,\n",
    "    \"czekaj\": 1\n",
    "}\n",
    "\n",
    "print(\"Przestrzeń akcji: {}\".format(len(akcje.keys())))\n",
    "\n",
    "# 21 - wszystkie kombinacje pul, gdzie suma monet daje 20\n",
    "# 0 - 20; 1 - 19; ... ; 19 - 1; 20 - 0\n",
    "# 101 - wszystkie liczby z przedzialu [0,1]\n",
    "# 3 - wygrana lub przegrana lub remis\n",
    "print(\"Przestrzeń stanów: {}\".format(21*101))"
   ]
  },
  {
   "cell_type": "code",
   "execution_count": 70,
   "metadata": {},
   "outputs": [
    {
     "ename": "SyntaxError",
     "evalue": "invalid syntax (1892004481.py, line 6)",
     "output_type": "error",
     "traceback": [
      "\u001b[1;36m  Input \u001b[1;32mIn [70]\u001b[1;36m\u001b[0m\n\u001b[1;33m    print(state, _/100)+\u001b[0m\n\u001b[1;37m                        ^\u001b[0m\n\u001b[1;31mSyntaxError\u001b[0m\u001b[1;31m:\u001b[0m invalid syntax\n"
     ]
    }
   ],
   "source": [
    "# Wszystkie stany\n",
    "i = 0\n",
    "for state in range(0, 21):\n",
    "    for _ in range(0, 101):\n",
    "        i += 1\n",
    "        print(state, _/100)+\n",
    "i"
   ]
  },
  {
   "cell_type": "code",
   "execution_count": null,
   "metadata": {},
   "outputs": [],
   "source": [
    "epsilon = 0.1\n",
    "\n",
    "if random.uniform(0, 1) < epsilon:\n",
    "    action = env.action_space.sample() # Explore action space (integer in [0, 5])\n",
    "else:\n",
    "    action = np.argmax(q_table[state]) # Exploit learned values (position of biggest q_value from q_table)\n"
   ]
  },
  {
   "cell_type": "code",
   "execution_count": 122,
   "metadata": {},
   "outputs": [
    {
     "name": "stdout",
     "output_type": "stream",
     "text": [
      "test 0.833039\n",
      "oczekujemy 0.8333333333333334\n"
     ]
    }
   ],
   "source": [
    "# symulacja szansy na wygrana w rzucie koscia\n",
    "l_prob = 1000000\n",
    "oczka = 6\n",
    "\n",
    "win = 0\n",
    "for i in range(l_prob):\n",
    "    if (random.randint(1, 6) < oczka):\n",
    "        win += 1\n",
    "print(\"test {}\".format(win/l_prob))\n",
    "print(\"oczekujemy {}\".format((oczka-1)/6))"
   ]
  },
  {
   "cell_type": "code",
   "execution_count": 161,
   "metadata": {},
   "outputs": [
    {
     "name": "stdout",
     "output_type": "stream",
     "text": [
      "test 0.091053\n",
      "oczekujemy 0.09090909090909091\n"
     ]
    }
   ],
   "source": [
    "# symulacja szansy na wygrana w losowaniu (0, 10, 0.1)\n",
    "l_prob = 1000000\n",
    "\n",
    "tab = [_ for _ in range(0,11)]\n",
    "l = len(tab)\n",
    "wylosowano = 1\n",
    "\n",
    "win = 0\n",
    "for i in range(l_prob):\n",
    "    if (random.sample(tab, 1)[0] < wylosowano):\n",
    "        win += 1\n",
    "print(\"test {}\".format(win/l_prob))\n",
    "print(\"oczekujemy {}\".format((wylosowano)/l))"
   ]
  },
  {
   "cell_type": "code",
   "execution_count": 221,
   "metadata": {},
   "outputs": [
    {
     "name": "stdout",
     "output_type": "stream",
     "text": [
      "test 0.485335\n",
      "oczekujemy 0.48514851485148514\n"
     ]
    }
   ],
   "source": [
    "# symulacja szansy na wygrana w losowaniu (0, 1, 0.01)\n",
    "l_prob = 1000000\n",
    "\n",
    "tab = [_/101 for _ in range(0,101)]\n",
    "l = len(tab)\n",
    "wylosowano = 49\n",
    "\n",
    "win = 0\n",
    "for i in range(l_prob):\n",
    "    if (random.sample(tab, 1)[0] < wylosowano/l):\n",
    "        win += 1\n",
    "print(\"test {}\".format(win/l_prob))\n",
    "print(\"oczekujemy {}\".format(wylosowano/l))"
   ]
  },
  {
   "cell_type": "code",
   "execution_count": 222,
   "metadata": {},
   "outputs": [
    {
     "data": {
      "text/plain": [
       "0.009900990099009901"
      ]
     },
     "execution_count": 222,
     "metadata": {},
     "output_type": "execute_result"
    }
   ],
   "source": [
    "1/101"
   ]
  },
  {
   "cell_type": "code",
   "execution_count": null,
   "metadata": {},
   "outputs": [],
   "source": []
  },
  {
   "cell_type": "code",
   "execution_count": null,
   "metadata": {},
   "outputs": [],
   "source": []
  },
  {
   "cell_type": "code",
   "execution_count": null,
   "metadata": {},
   "outputs": [],
   "source": []
  },
  {
   "cell_type": "code",
   "execution_count": null,
   "metadata": {},
   "outputs": [],
   "source": []
  },
  {
   "cell_type": "code",
   "execution_count": null,
   "metadata": {},
   "outputs": [],
   "source": []
  },
  {
   "cell_type": "code",
   "execution_count": null,
   "metadata": {},
   "outputs": [],
   "source": []
  },
  {
   "cell_type": "code",
   "execution_count": 38,
   "metadata": {},
   "outputs": [
    {
     "name": "stdout",
     "output_type": "stream",
     "text": [
      "Remis! Gracze zachowują swoje monety.\n",
      "Wygranym jest Gracz 2!\n",
      "Remis! Gracze zachowują swoje monety.\n",
      "Wygranym jest Gracz 2!\n",
      "Remis! Gracze zachowują swoje monety.\n",
      "Wygranym jest Gracz 2!\n",
      "Remis! Gracze zachowują swoje monety.\n",
      "Wygranym jest Gracz 2!\n",
      "Remis! Gracze zachowują swoje monety.\n",
      "Wygranym jest Gracz 2!\n",
      "Remis! Gracze zachowują swoje monety.\n",
      "Wygranym jest Gracz 2!\n",
      "Remis! Gracze zachowują swoje monety.\n",
      "Wygranym jest Gracz 2!\n",
      "Remis! Gracze zachowują swoje monety.\n",
      "Wygranym jest Gracz 2!\n",
      "Remis! Gracze zachowują swoje monety.\n",
      "Wygranym jest Gracz 2!\n",
      "Remis! Gracze zachowują swoje monety.\n",
      "Remis!\n"
     ]
    }
   ],
   "source": [
    "# ChatGPT\n",
    "import random\n",
    "\n",
    "class Player:\n",
    "    def __init__(self, name):\n",
    "        self.name = name\n",
    "        self.coins = 10\n",
    "        self.p = 0\n",
    "\n",
    "    def roll(self):\n",
    "        self.p = random.uniform(0, 1)\n",
    "        return self.p\n",
    "\n",
    "    def play(self):\n",
    "        self.coins -= 1\n",
    "        return self.roll() > 0\n",
    "\n",
    "class Game:\n",
    "    def __init__(self):\n",
    "        self.players = []\n",
    "        self.pot = 0\n",
    "\n",
    "    def add_player(self, player):\n",
    "        self.players.append(player)\n",
    "\n",
    "    def play_round(self):\n",
    "        for player in self.players:\n",
    "            if player.play():\n",
    "                self.pot += 1\n",
    "\n",
    "        if all(player.p > 0 for player in self.players):\n",
    "            self.pot += 2\n",
    "            winner = max(self.players, key=lambda x: x.p)\n",
    "            if winner.p == max(player.p for player in self.players):\n",
    "                print(f\"Remis! Gracze zachowują swoje monety.\")\n",
    "            else:\n",
    "                winner.coins += self.pot\n",
    "                print(f\"Wygranym jest {winner.name}!\")\n",
    "                self.pot = 0\n",
    "        elif any(player.p > 0 for player in self.players):\n",
    "            winner = next(player for player in self.players if player.p > 0)\n",
    "            winner.coins += self.pot\n",
    "            print(f\"Wygranym jest {winner.name}!\")\n",
    "            self.pot = 0\n",
    "        else:\n",
    "            self.pot += 1\n",
    "            print(\"Nikt nie podjął gry. Nagroda w następnej turze zwiększa się o 1 moneta.\")\n",
    "\n",
    "p1 = Player(\"Gracz 1\")\n",
    "p2 = Player(\"Gracz 2\")\n",
    "game = Game()\n",
    "game.add_player(p1)\n",
    "game.add_player(p2)\n",
    "\n",
    "while p1.coins > 0 and p2.coins > 0:\n",
    "    game.play_round()\n",
    "\n",
    "    if p1.coins <= 0 and p2.coins <= 0:\n",
    "        print(\"Remis!\")\n",
    "    elif p1.coins > p2.coins:\n",
    "        print(f\"Wygranym jest {p1.name}!\")\n",
    "    else:\n",
    "        print(f\"Wygranym jest {p2.name}!\")"
   ]
  },
  {
   "cell_type": "code",
   "execution_count": null,
   "metadata": {},
   "outputs": [],
   "source": []
  }
 ],
 "metadata": {
  "kernelspec": {
   "display_name": "gym_env",
   "language": "python",
   "name": "python3"
  },
  "language_info": {
   "codemirror_mode": {
    "name": "ipython",
    "version": 3
   },
   "file_extension": ".py",
   "mimetype": "text/x-python",
   "name": "python",
   "nbconvert_exporter": "python",
   "pygments_lexer": "ipython3",
   "version": "3.10.8 | packaged by conda-forge | (main, Nov 24 2022, 14:07:00) [MSC v.1916 64 bit (AMD64)]"
  },
  "orig_nbformat": 4,
  "vscode": {
   "interpreter": {
    "hash": "9ce86351d4150d14ab146c8f5f86fd74164cb29d0644c760e27b4509b9f41cf3"
   }
  }
 },
 "nbformat": 4,
 "nbformat_minor": 2
}
