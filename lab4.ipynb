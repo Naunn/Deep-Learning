{
 "cells": [
  {
   "cell_type": "code",
   "execution_count": 32,
   "metadata": {},
   "outputs": [],
   "source": [
    "from keras.datasets.mnist import load_data\n",
    "\n",
    "from keras.utils import to_categorical\n",
    "import tensorflow as tf\n",
    "\n",
    "tf.config.run_functions_eagerly(True) # Do uruchamiania m.in. to_categorical\n",
    "\n",
    "from tensorflow.keras import layers, models\n",
    "\n",
    "import numpy as np\n",
    "\n",
    "import matplotlib.pyplot as plt"
   ]
  },
  {
   "cell_type": "markdown",
   "metadata": {},
   "source": [
    "# Zaimportowanie danych"
   ]
  },
  {
   "cell_type": "code",
   "execution_count": 6,
   "metadata": {},
   "outputs": [],
   "source": [
    "(trainX,trainY), (testX, testY) = load_data()"
   ]
  },
  {
   "cell_type": "code",
   "execution_count": 11,
   "metadata": {},
   "outputs": [
    {
     "data": {
      "text/plain": [
       "array([[0., 0., 0., ..., 0., 0., 0.],\n",
       "       [1., 0., 0., ..., 0., 0., 0.],\n",
       "       [0., 0., 0., ..., 0., 0., 0.],\n",
       "       ...,\n",
       "       [0., 0., 0., ..., 0., 0., 0.],\n",
       "       [0., 0., 0., ..., 0., 0., 0.],\n",
       "       [0., 0., 0., ..., 0., 1., 0.]], dtype=float32)"
      ]
     },
     "execution_count": 11,
     "metadata": {},
     "output_type": "execute_result"
    }
   ],
   "source": [
    "to_categorical(trainY, num_classes=10)"
   ]
  },
  {
   "cell_type": "code",
   "execution_count": 13,
   "metadata": {},
   "outputs": [
    {
     "data": {
      "text/plain": [
       "(60000, 28, 28)"
      ]
     },
     "execution_count": 13,
     "metadata": {},
     "output_type": "execute_result"
    }
   ],
   "source": [
    "trainX.shape"
   ]
  },
  {
   "cell_type": "markdown",
   "metadata": {},
   "source": [
    "# Budowanie modelu"
   ]
  },
  {
   "cell_type": "code",
   "execution_count": 28,
   "metadata": {},
   "outputs": [],
   "source": [
    "# https://blog.keras.io/building-autoencoders-in-keras.html\n",
    "import keras\n",
    "\n",
    "# This is the size of our encoded representations\n",
    "encoding_dim = 32  # 32 floats -> compression of factor 24.5, assuming the input is 784 floats\n",
    "\n",
    "# This is our input image\n",
    "input = layers.Input(shape = (28*28,)) # Dlaczego 28*28? Ponieważ autoenkoder (z wyrazen algebraicznych) nie zachowuje własności przestrzennych i \"rozpłaszcza\" wymiary - z siatki 28x28 robi sie jeden ciąg 28*28 wymiarów \n",
    "# \"encoded\" is the encoded representation of the input\n",
    "encoded = layers.Dense(encoding_dim, activation='relu')(input)\n",
    "# \"decoded\" is the lossy reconstruction of the input\n",
    "decoded = layers.Dense(28*28, activation='sigmoid')(encoded)\n",
    "\n",
    "# This model maps an input to its reconstruction\n",
    "autoencoder = models.Model(input, decoded)\n",
    "\n",
    "# Oddzielny enkoder\n",
    "# This model maps an input to its encoded representation\n",
    "encoder = models.Model(input, encoded)\n",
    "\n",
    "# Oddzielny dekoder\n",
    "# This is our encoded (32-dimensional) input\n",
    "encoded_input = keras.Input(shape=(encoding_dim,))\n",
    "# Retrieve the last layer of the autoencoder model\n",
    "decoder_layer = autoencoder.layers[-1]\n",
    "# Create the decoder model\n",
    "decoder = models.Model(encoded_input, decoder_layer(encoded_input))"
   ]
  },
  {
   "cell_type": "code",
   "execution_count": 29,
   "metadata": {},
   "outputs": [],
   "source": [
    "#  configure our model to use a per-pixel binary crossentropy loss, and the Adam optimizer\n",
    "autoencoder.compile(optimizer='adam', loss='binary_crossentropy')"
   ]
  },
  {
   "cell_type": "code",
   "execution_count": 30,
   "metadata": {},
   "outputs": [],
   "source": [
    "# dane\n",
    "x_train = trainX.astype('float32') / 255.\n",
    "x_test = testX.astype('float32') / 255.\n",
    "x_train = x_train.reshape((len(x_train), np.prod(x_train.shape[1:])))\n",
    "x_test = x_test.reshape((len(x_test), np.prod(x_test.shape[1:])))"
   ]
  },
  {
   "cell_type": "code",
   "execution_count": 31,
   "metadata": {},
   "outputs": [
    {
     "name": "stdout",
     "output_type": "stream",
     "text": [
      "Epoch 1/50\n"
     ]
    },
    {
     "name": "stderr",
     "output_type": "stream",
     "text": [
      "c:\\Users\\barlewandowski\\Anaconda3\\envs\\tensorflow_env\\lib\\site-packages\\tensorflow\\python\\data\\ops\\structured_function.py:264: UserWarning: Even though the `tf.config.experimental_run_functions_eagerly` option is set, this option does not apply to tf.data functions. To force eager execution of tf.data functions, please use `tf.data.experimental.enable_debug_mode()`.\n",
      "  warnings.warn(\n"
     ]
    },
    {
     "name": "stdout",
     "output_type": "stream",
     "text": [
      "235/235 [==============================] - 13s 53ms/step - loss: 0.2789 - val_loss: 0.1936\n",
      "Epoch 2/50\n",
      "235/235 [==============================] - 12s 52ms/step - loss: 0.1730 - val_loss: 0.1545\n",
      "Epoch 3/50\n",
      "235/235 [==============================] - 13s 53ms/step - loss: 0.1445 - val_loss: 0.1335\n",
      "Epoch 4/50\n",
      "235/235 [==============================] - 14s 62ms/step - loss: 0.1282 - val_loss: 0.1210\n",
      "Epoch 5/50\n",
      "235/235 [==============================] - 13s 56ms/step - loss: 0.1181 - val_loss: 0.1129\n",
      "Epoch 6/50\n",
      "235/235 [==============================] - 12s 52ms/step - loss: 0.1112 - val_loss: 0.1071\n",
      "Epoch 7/50\n",
      "235/235 [==============================] - 12s 53ms/step - loss: 0.1062 - val_loss: 0.1028\n",
      "Epoch 8/50\n",
      "235/235 [==============================] - 14s 60ms/step - loss: 0.1024 - val_loss: 0.0996\n",
      "Epoch 9/50\n",
      "235/235 [==============================] - 13s 57ms/step - loss: 0.0997 - val_loss: 0.0973\n",
      "Epoch 10/50\n",
      "235/235 [==============================] - 12s 50ms/step - loss: 0.0977 - val_loss: 0.0957\n",
      "Epoch 11/50\n",
      "235/235 [==============================] - 12s 50ms/step - loss: 0.0963 - val_loss: 0.0944\n",
      "Epoch 12/50\n",
      "235/235 [==============================] - 12s 52ms/step - loss: 0.0954 - val_loss: 0.0937\n",
      "Epoch 13/50\n",
      "235/235 [==============================] - 12s 50ms/step - loss: 0.0948 - val_loss: 0.0932\n",
      "Epoch 14/50\n",
      "235/235 [==============================] - 12s 50ms/step - loss: 0.0944 - val_loss: 0.0929\n",
      "Epoch 15/50\n",
      "235/235 [==============================] - 12s 49ms/step - loss: 0.0941 - val_loss: 0.0927\n",
      "Epoch 16/50\n",
      "235/235 [==============================] - 12s 50ms/step - loss: 0.0939 - val_loss: 0.0925\n",
      "Epoch 17/50\n",
      "235/235 [==============================] - 12s 51ms/step - loss: 0.0937 - val_loss: 0.0923\n",
      "Epoch 18/50\n",
      "235/235 [==============================] - 11s 49ms/step - loss: 0.0936 - val_loss: 0.0923\n",
      "Epoch 19/50\n",
      "235/235 [==============================] - 11s 48ms/step - loss: 0.0935 - val_loss: 0.0921\n",
      "Epoch 20/50\n",
      "235/235 [==============================] - 11s 48ms/step - loss: 0.0934 - val_loss: 0.0920\n",
      "Epoch 21/50\n",
      "235/235 [==============================] - 12s 49ms/step - loss: 0.0933 - val_loss: 0.0920\n",
      "Epoch 22/50\n",
      "235/235 [==============================] - 11s 47ms/step - loss: 0.0932 - val_loss: 0.0919\n",
      "Epoch 23/50\n",
      "235/235 [==============================] - 11s 48ms/step - loss: 0.0932 - val_loss: 0.0918\n",
      "Epoch 24/50\n",
      "235/235 [==============================] - 11s 47ms/step - loss: 0.0931 - val_loss: 0.0919\n",
      "Epoch 25/50\n",
      "235/235 [==============================] - 11s 47ms/step - loss: 0.0931 - val_loss: 0.0919\n",
      "Epoch 26/50\n",
      "235/235 [==============================] - 12s 50ms/step - loss: 0.0930 - val_loss: 0.0918\n",
      "Epoch 27/50\n",
      "235/235 [==============================] - 11s 48ms/step - loss: 0.0930 - val_loss: 0.0918\n",
      "Epoch 28/50\n",
      "235/235 [==============================] - 11s 47ms/step - loss: 0.0930 - val_loss: 0.0917\n",
      "Epoch 29/50\n",
      "235/235 [==============================] - 11s 47ms/step - loss: 0.0929 - val_loss: 0.0916\n",
      "Epoch 30/50\n",
      "235/235 [==============================] - 11s 48ms/step - loss: 0.0929 - val_loss: 0.0916\n",
      "Epoch 31/50\n",
      "235/235 [==============================] - 12s 51ms/step - loss: 0.0929 - val_loss: 0.0917\n",
      "Epoch 32/50\n",
      "235/235 [==============================] - 12s 50ms/step - loss: 0.0929 - val_loss: 0.0916\n",
      "Epoch 33/50\n",
      "235/235 [==============================] - 12s 50ms/step - loss: 0.0928 - val_loss: 0.0916\n",
      "Epoch 34/50\n",
      "235/235 [==============================] - 11s 48ms/step - loss: 0.0928 - val_loss: 0.0915\n",
      "Epoch 35/50\n",
      "235/235 [==============================] - 11s 48ms/step - loss: 0.0928 - val_loss: 0.0916\n",
      "Epoch 36/50\n",
      "235/235 [==============================] - 12s 50ms/step - loss: 0.0928 - val_loss: 0.0916\n",
      "Epoch 37/50\n",
      "235/235 [==============================] - 12s 50ms/step - loss: 0.0927 - val_loss: 0.0916\n",
      "Epoch 38/50\n",
      "235/235 [==============================] - 12s 52ms/step - loss: 0.0927 - val_loss: 0.0915\n",
      "Epoch 39/50\n",
      "235/235 [==============================] - 11s 47ms/step - loss: 0.0927 - val_loss: 0.0915\n",
      "Epoch 40/50\n",
      "235/235 [==============================] - 11s 48ms/step - loss: 0.0927 - val_loss: 0.0916\n",
      "Epoch 41/50\n",
      "235/235 [==============================] - 11s 48ms/step - loss: 0.0927 - val_loss: 0.0916\n",
      "Epoch 42/50\n",
      "235/235 [==============================] - 12s 49ms/step - loss: 0.0927 - val_loss: 0.0915\n",
      "Epoch 43/50\n",
      "235/235 [==============================] - 12s 49ms/step - loss: 0.0927 - val_loss: 0.0915\n",
      "Epoch 44/50\n",
      "235/235 [==============================] - 11s 48ms/step - loss: 0.0927 - val_loss: 0.0915\n",
      "Epoch 45/50\n",
      "235/235 [==============================] - 12s 51ms/step - loss: 0.0927 - val_loss: 0.0914\n",
      "Epoch 46/50\n",
      "235/235 [==============================] - 12s 51ms/step - loss: 0.0927 - val_loss: 0.0914\n",
      "Epoch 47/50\n",
      "235/235 [==============================] - 12s 52ms/step - loss: 0.0926 - val_loss: 0.0914\n",
      "Epoch 48/50\n",
      "235/235 [==============================] - 13s 54ms/step - loss: 0.0926 - val_loss: 0.0915\n",
      "Epoch 49/50\n",
      "235/235 [==============================] - 12s 52ms/step - loss: 0.0926 - val_loss: 0.0915\n",
      "Epoch 50/50\n",
      "235/235 [==============================] - 12s 52ms/step - loss: 0.0926 - val_loss: 0.0915\n"
     ]
    },
    {
     "data": {
      "text/plain": [
       "<keras.callbacks.History at 0x10e29d66650>"
      ]
     },
     "execution_count": 31,
     "metadata": {},
     "output_type": "execute_result"
    }
   ],
   "source": [
    "autoencoder.fit(x_train, x_train,\n",
    "                epochs=50,\n",
    "                batch_size=256,\n",
    "                shuffle=True,\n",
    "                validation_data=(x_test, x_test))"
   ]
  },
  {
   "cell_type": "markdown",
   "metadata": {},
   "source": [
    "# Wizualizacja"
   ]
  },
  {
   "cell_type": "code",
   "execution_count": 34,
   "metadata": {},
   "outputs": [
    {
     "name": "stdout",
     "output_type": "stream",
     "text": [
      " 15/313 [>.............................] - ETA: 1s "
     ]
    },
    {
     "name": "stderr",
     "output_type": "stream",
     "text": [
      "c:\\Users\\barlewandowski\\Anaconda3\\envs\\tensorflow_env\\lib\\site-packages\\tensorflow\\python\\data\\ops\\structured_function.py:264: UserWarning: Even though the `tf.config.experimental_run_functions_eagerly` option is set, this option does not apply to tf.data functions. To force eager execution of tf.data functions, please use `tf.data.experimental.enable_debug_mode()`.\n",
      "  warnings.warn(\n"
     ]
    },
    {
     "name": "stdout",
     "output_type": "stream",
     "text": [
      "313/313 [==============================] - 1s 5ms/step\n",
      "313/313 [==============================] - 1s 4ms/step\n"
     ]
    }
   ],
   "source": [
    "# Encode and decode some digits\n",
    "# Note that we take them from the *test* set\n",
    "encoded_imgs = encoder.predict(x_test)\n",
    "decoded_imgs = decoder.predict(encoded_imgs)"
   ]
  },
  {
   "cell_type": "code",
   "execution_count": 35,
   "metadata": {},
   "outputs": [
    {
     "data": {
      "image/png": "[encoded data removed]",
      "text/plain": [
       "<Figure size 2000x400 with 20 Axes>"
      ]
     },
     "metadata": {},
     "output_type": "display_data"
    }
   ],
   "source": [
    "n = 10  # How many digits we will display\n",
    "plt.figure(figsize=(20, 4))\n",
    "for i in range(n):\n",
    "    # Display original\n",
    "    ax = plt.subplot(2, n, i + 1)\n",
    "    plt.imshow(x_test[i].reshape(28, 28))\n",
    "    plt.gray()\n",
    "    ax.get_xaxis().set_visible(False)\n",
    "    ax.get_yaxis().set_visible(False)\n",
    "\n",
    "    # Display reconstruction\n",
    "    ax = plt.subplot(2, n, i + 1 + n)\n",
    "    plt.imshow(decoded_imgs[i].reshape(28, 28))\n",
    "    plt.gray()\n",
    "    ax.get_xaxis().set_visible(False)\n",
    "    ax.get_yaxis().set_visible(False)\n",
    "plt.show()"
   ]
  },
  {
   "cell_type": "code",
   "execution_count": null,
   "metadata": {},
   "outputs": [],
   "source": []
  }
 ],
 "metadata": {
  "kernelspec": {
   "display_name": "tensor_kernel",
   "language": "python",
   "name": "tensor_kernel"
  },
  "language_info": {
   "codemirror_mode": {
    "name": "ipython",
    "version": 3
   },
   "file_extension": ".py",
   "mimetype": "text/x-python",
   "name": "python",
   "nbconvert_exporter": "python",
   "pygments_lexer": "ipython3",
   "version": "3.10.4"
  },
  "orig_nbformat": 4,
  "vscode": {
   "interpreter": {
    "hash": "6bd420165d8666dd145d69ba0c5890f85f659a430a563bc51d5c55bfc332f847"
   }
  }
 },
 "nbformat": 4,
 "nbformat_minor": 2
}
